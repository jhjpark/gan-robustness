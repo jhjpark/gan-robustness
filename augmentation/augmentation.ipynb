{
 "cells": [
  {
   "cell_type": "markdown",
   "metadata": {},
   "source": [
    "# Setup"
   ]
  },
  {
   "cell_type": "code",
   "execution_count": null,
   "metadata": {},
   "outputs": [],
   "source": [
    "import numpy as np\n",
    "import matplotlib.pyplot as plt\n",
    "from tensorflow.keras import Model\n",
    "from tensorflow.keras.layers import Input, Conv2D, MaxPooling2D, Conv2DTranspose, Concatenate, Dropout, Flatten, Dense\n",
    "import torch\n",
    "import torchvision\n",
    "from PIL import Image\n",
    "from tensorflow.keras.models import load_model\n",
    "\n",
    "from google.colab import drive\n",
    "drive.mount('/content/drive/')"
   ]
  },
  {
   "cell_type": "code",
   "execution_count": null,
   "metadata": {},
   "outputs": [],
   "source": [
    "RootDir = '/content/drive/MyDrive/STAT288_Project/'"
   ]
  },
  {
   "cell_type": "markdown",
   "metadata": {},
   "source": [
    "# Data"
   ]
  },
  {
   "cell_type": "code",
   "execution_count": null,
   "metadata": {},
   "outputs": [],
   "source": [
    "# Create augmented data with different rotations\n",
    "def augment_data_rotation(x, y):\n",
    "    augmented_x = []\n",
    "    augmented_y = []\n",
    "    for i in range(len(x)):\n",
    "        curr = x[i]\n",
    "        for _ in range(4):\n",
    "            # flips\n",
    "            flip_x = np.flip(curr, axis=0)\n",
    "            flip_y = np.flip(curr, axis=1)\n",
    "            flip_xy = np.flip(flip_x, axis=1)\n",
    "            augmented_x.append(flip_x)\n",
    "            augmented_y.append(y[i])\n",
    "            augmented_x.append(flip_y)\n",
    "            augmented_y.append(y[i])\n",
    "            augmented_x.append(flip_xy)\n",
    "            augmented_y.append(y[i])\n",
    "\n",
    "            # rotations\n",
    "            augmented_x.append(curr)\n",
    "            augmented_y.append(y[i])\n",
    "            curr = np.rot90(curr)\n",
    "    return (augmented_x, augmented_y)"
   ]
  },
  {
   "cell_type": "code",
   "execution_count": null,
   "metadata": {},
   "outputs": [],
   "source": [
    "# Create augmented data with different contrast and hue\n",
    "def augment_data_contrast(x, y):\n",
    "    augmented_x = []\n",
    "    augmented_y = []\n",
    "    for i in range(len(x)):\n",
    "        im = Image.fromarray(np.uint8(x[i]))\n",
    "        augmented_x.append(x[i])\n",
    "        augmented_y.append(y[i])\n",
    "        new_img = torchvision.transforms.ColorJitter(brightness=0, contrast=0.5, saturation=0, hue=0.5)(im)\n",
    "        new_img = np.array(new_img)\n",
    "        augmented_x.append(new_img)\n",
    "        augmented_y.append(y[i])\n",
    "    return (augmented_x, augmented_y)"
   ]
  },
  {
   "cell_type": "code",
   "execution_count": null,
   "metadata": {},
   "outputs": [],
   "source": [
    "# Load initial data\n",
    "x_train = np.load(RootDir + 'SpaceNet/sat_train.npy').astype('float32')\n",
    "init_y_train = np.load(RootDir + 'SpaceNet/bul_train.npy').astype('float32')\n",
    "x_test = np.load(RootDir + 'SpaceNet/sat_test.npy').astype('float32')\n",
    "init_y_test = np.load(RootDir + 'SpaceNet/bul_test.npy').astype('float32')\n",
    "\n",
    "print(\"x_train shape\", x_train.shape)\n",
    "print(\"init_y_train shape\", init_y_train.shape)\n",
    "print(\"x_test shape\", x_test.shape)\n",
    "print(\"init_y_test shape\", init_y_test.shape)\n",
    "\n",
    "y_train = np.sum(init_y_train, axis=(1, 2, 3))\n",
    "y_test = np.sum(init_y_test, axis=(1, 2, 3))\n",
    "print(\"y_train shape\", y_train.shape)\n",
    "print(\"y_test shape\", y_test.shape)"
   ]
  },
  {
   "cell_type": "code",
   "execution_count": null,
   "metadata": {},
   "outputs": [],
   "source": [
    "# Create augmented data for rotations\n",
    "augmented_rotation_x_train, augmented_rotation_y_train = augment_data_rotation(x_train, y_train)\n",
    "augmented_rotation_x_test, augmented_rotation_y_test = augment_data_rotation(x_test, y_test)\n",
    "\n",
    "augmented_rotation_x_train = np.asarray(augmented_rotation_x_train)\n",
    "augmented_rotation_y_train = np.asarray(augmented_rotation_y_train)\n",
    "augmented_rotation_x_test = np.asarray(augmented_rotation_x_test)\n",
    "augmented_rotation_y_test = np.asarray(augmented_rotation_y_test)\n",
    "\n",
    "print(\"augmented_x_train shape\", augmented_rotation_x_train.shape)\n",
    "print(\"augmented_y_train shape\", augmented_rotation_y_train.shape)"
   ]
  },
  {
   "cell_type": "code",
   "execution_count": null,
   "metadata": {},
   "outputs": [],
   "source": [
    "augmented_contrast_x_train, augmented_contrast_y_train = augment_data_contrast(x_train, y_train)\n",
    "augmented_contrast_x_test, augmented_contrast_y_test = augment_data_contrast(x_test, y_test)\n",
    "\n",
    "augmented_contrast_x_train = np.asarray(augmented_contrast_x_train)\n",
    "augmented_contrast_y_train = np.asarray(augmented_contrast_y_train)\n",
    "augmented_contrast_x_test = np.asarray(augmented_contrast_x_test)\n",
    "augmented_contrast_y_test = np.asarray(augmented_contrast_y_test)\n",
    "\n",
    "print(\"augmented_x_train shape\", augmented_contrast_x_train.shape)\n",
    "print(\"augmented_y_train shape\", augmented_contrast_y_train.shape)"
   ]
  },
  {
   "cell_type": "markdown",
   "metadata": {},
   "source": [
    "# Display Data\n"
   ]
  },
  {
   "cell_type": "code",
   "execution_count": null,
   "metadata": {},
   "outputs": [],
   "source": [
    "idx = 0\n",
    "plt.imshow(x_test[idx, :, :, :].astype('uint8'))\n",
    "plt.show()\n",
    "plt.imshow(init_y_test[idx, :, :, 0].astype('uint8'))\n",
    "plt.show()\n",
    "print(y_test[idx])"
   ]
  },
  {
   "cell_type": "code",
   "execution_count": null,
   "metadata": {},
   "outputs": [],
   "source": [
    "idx = 1\n",
    "plt.imshow(augmented_contrast_x_test[idx, :, :, :].astype('uint8'))\n",
    "plt.show()"
   ]
  },
  {
   "cell_type": "markdown",
   "metadata": {},
   "source": [
    "# U-Net"
   ]
  },
  {
   "cell_type": "code",
   "execution_count": null,
   "metadata": {},
   "outputs": [],
   "source": [
    "x_in = Input(shape=(128, 128, 3))\n",
    "\n",
    "x_temp = Conv2D(32, (3, 3), activation='relu', padding='same')(x_in)\n",
    "x_temp = Dropout(0.25)(x_temp)\n",
    "x_skip1 = Conv2D(32, (3, 3), activation='relu', padding='same')(x_temp)\n",
    "x_temp = MaxPooling2D((2,2))(x_skip1)\n",
    "x_temp = Conv2D(32, (3, 3), activation='relu', padding='same')(x_temp)\n",
    "x_temp = Dropout(0.25)(x_temp)\n",
    "x_skip2 = Conv2D(32, (3, 3), activation='relu', padding='same')(x_temp)\n",
    "x_temp = MaxPooling2D((2,2))(x_skip2)\n",
    "x_temp = Conv2D(64, (3, 3), activation='relu', padding='same')(x_temp)\n",
    "x_temp = Dropout(0.25)(x_temp)\n",
    "x_skip3 = Conv2D(64, (3, 3), activation='relu', padding='same')(x_temp)\n",
    "x_temp = MaxPooling2D((2,2))(x_skip3)\n",
    "x_temp = Conv2D(64, (3, 3), activation='relu', padding='same')(x_temp)\n",
    "x_temp = Dropout(0.5)(x_temp)\n",
    "x_temp = Conv2D(64, (3, 3), activation='relu', padding='same')(x_temp)\n",
    "x_temp = Flatten()(x_temp)\n",
    "x_out = Dense(units=1, activation=None, use_bias=False)(x_temp)\n",
    "\n",
    "model = Model(inputs=x_in, outputs=x_out)\n",
    "model.compile(loss='mean_squared_error', optimizer='adam')\n",
    "model.summary()"
   ]
  },
  {
   "cell_type": "code",
   "execution_count": null,
   "metadata": {},
   "outputs": [],
   "source": [
    "model.save_weights(\"/content/drive/My Drive/STAT288_Project/DNN_model_original_weights.keras\")"
   ]
  },
  {
   "cell_type": "markdown",
   "metadata": {},
   "source": [
    "# Hyperparameters"
   ]
  },
  {
   "cell_type": "code",
   "execution_count": null,
   "metadata": {},
   "outputs": [],
   "source": [
    "NumEpochs = 75\n",
    "BatchSize = 32"
   ]
  },
  {
   "cell_type": "markdown",
   "metadata": {},
   "source": [
    "# Train Original"
   ]
  },
  {
   "cell_type": "code",
   "execution_count": null,
   "metadata": {},
   "outputs": [],
   "source": [
    "history = model.fit(x_train, y_train, validation_data=(x_test, y_test), epochs=NumEpochs, batch_size=BatchSize, verbose=1)"
   ]
  },
  {
   "cell_type": "code",
   "execution_count": null,
   "metadata": {},
   "outputs": [],
   "source": [
    "# Save the model\n",
    "model.save(\"/content/drive/My Drive/STAT288_Project/DNN_model_original.keras\")"
   ]
  },
  {
   "cell_type": "code",
   "execution_count": null,
   "metadata": {},
   "outputs": [],
   "source": [
    "# Load the model\n",
    "model = load_model(\"/content/drive/My Drive/STAT288_Project/DNN_model_original.keras\")"
   ]
  },
  {
   "cell_type": "code",
   "execution_count": null,
   "metadata": {},
   "outputs": [],
   "source": [
    "plt.plot(history.history['loss'])\n",
    "plt.plot(history.history['val_loss'])\n",
    "plt.title('Original Model Loss')\n",
    "plt.ylabel('Loss')\n",
    "plt.xlabel('Epoch')\n",
    "plt.legend(['Train', 'Test'], loc='upper left')\n",
    "plt.show()"
   ]
  },
  {
   "cell_type": "markdown",
   "metadata": {},
   "source": [
    "# Inference Original"
   ]
  },
  {
   "cell_type": "code",
   "execution_count": null,
   "metadata": {},
   "outputs": [],
   "source": [
    "pred_test = model.predict(augmented_rotation_x_test)\n",
    "print(len(pred_test.flatten()))\n",
    "stddev = []\n",
    "for i in range(len(x_test)):\n",
    "    out = [pred_test[16 * i + 4 * 0], pred_test[16 * i + 4 * 1], pred_test[16 * i + 4 * 2], pred_test[16 * i + 4 * 3]]\n",
    "    stddev.append(np.std(out))\n",
    "print(np.average(stddev))"
   ]
  },
  {
   "cell_type": "markdown",
   "metadata": {},
   "source": [
    "# Train Rotation"
   ]
  },
  {
   "cell_type": "code",
   "execution_count": null,
   "metadata": {},
   "outputs": [],
   "source": [
    "model.load_weights(\"/content/drive/My Drive/STAT288_Project/DNN_model_original_weights.keras\")"
   ]
  },
  {
   "cell_type": "code",
   "execution_count": null,
   "metadata": {},
   "outputs": [],
   "source": [
    "augmented_history = model.fit(augmented_rotation_x_train, augmented_rotation_y_train, validation_data=(x_test, y_test), epochs=NumEpochs, batch_size=BatchSize, verbose=1)"
   ]
  },
  {
   "cell_type": "code",
   "execution_count": null,
   "metadata": {},
   "outputs": [],
   "source": [
    "# Save the model\n",
    "model.save(\"/content/drive/My Drive/STAT288_Project/DNN_model_augmented_rotation.keras\")"
   ]
  },
  {
   "cell_type": "code",
   "execution_count": null,
   "metadata": {},
   "outputs": [],
   "source": [
    "# Load the model\n",
    "model = load_model(\"/content/drive/My Drive/STAT288_Project/DNN_model_augmented_rotation.keras\")"
   ]
  },
  {
   "cell_type": "code",
   "execution_count": null,
   "metadata": {},
   "outputs": [],
   "source": [
    "plt.plot(augmented_history.history['loss'])\n",
    "plt.plot(augmented_history.history['val_loss'])\n",
    "plt.title('Augmented Rotation Model Loss')\n",
    "plt.ylabel('Loss')\n",
    "plt.xlabel('Epoch')\n",
    "plt.legend(['Train', 'Test'], loc='upper left')\n",
    "plt.show()"
   ]
  },
  {
   "cell_type": "markdown",
   "metadata": {},
   "source": [
    "# Inference Rotation"
   ]
  },
  {
   "cell_type": "code",
   "execution_count": null,
   "metadata": {},
   "outputs": [],
   "source": [
    "pred_test = model.predict(augmented_rotation_x_test)\n",
    "stddev = []\n",
    "for i in range(len(x_test)):\n",
    "    out = [pred_test[16 * i + 4 * 0], pred_test[16 * i + 4 * 1], pred_test[16 * i + 4 * 2], pred_test[16 * i + 4 * 3]]\n",
    "    stddev.append(np.std(out))\n",
    "print(np.average(stddev))"
   ]
  },
  {
   "cell_type": "markdown",
   "metadata": {},
   "source": [
    "# Train Contrast"
   ]
  },
  {
   "cell_type": "code",
   "execution_count": null,
   "metadata": {},
   "outputs": [],
   "source": [
    "model.load_weights(\"/content/drive/My Drive/STAT288_Project/DNN_model_original_weights.keras\")"
   ]
  },
  {
   "cell_type": "code",
   "execution_count": null,
   "metadata": {},
   "outputs": [],
   "source": [
    "augmented_contrast_history = model.fit(augmented_contrast_x_train, augmented_contrast_y_train, validation_data=(x_test, y_test), epochs=NumEpochs, batch_size=BatchSize, verbose=1)"
   ]
  },
  {
   "cell_type": "code",
   "execution_count": null,
   "metadata": {},
   "outputs": [],
   "source": [
    "# Save the model\n",
    "model.save(\"/content/drive/My Drive/STAT288_Project/DNN_model_augmented_contrast.keras\")"
   ]
  },
  {
   "cell_type": "code",
   "execution_count": null,
   "metadata": {},
   "outputs": [],
   "source": [
    "# Load the model\n",
    "model = load_model(\"/content/drive/My Drive/STAT288_Project/DNN_model_augmented_contrast.keras\")"
   ]
  },
  {
   "cell_type": "code",
   "execution_count": null,
   "metadata": {},
   "outputs": [],
   "source": [
    "plt.plot(augmented_contrast_history.history['loss'])\n",
    "plt.plot(augmented_contrast_history.history['val_loss'])\n",
    "plt.title('Augmented Contrast Model Loss')\n",
    "plt.ylabel('Loss')\n",
    "plt.xlabel('Epoch')\n",
    "plt.legend(['Train', 'Test'], loc='upper left')\n",
    "plt.show()"
   ]
  }
 ],
 "metadata": {
  "language_info": {
   "name": "python"
  }
 },
 "nbformat": 4,
 "nbformat_minor": 2
}
