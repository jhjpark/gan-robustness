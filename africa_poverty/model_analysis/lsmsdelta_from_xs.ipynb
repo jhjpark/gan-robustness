{
 "cells": [
  {
   "cell_type": "markdown",
   "metadata": {
    "toc": true
   },
   "source": [
    "<h1>Table of Contents<span class=\"tocSkip\"></span></h1>\n",
    "<div class=\"toc\"><ul class=\"toc-item\"><li><span><a href=\"#Imports-and-Constants\" data-toc-modified-id=\"Imports-and-Constants-1\"><span class=\"toc-item-num\">1&nbsp;&nbsp;</span>Imports and Constants</a></span></li><li><span><a href=\"#Load-Data\" data-toc-modified-id=\"Load-Data-2\"><span class=\"toc-item-num\">2&nbsp;&nbsp;</span>Load Data</a></span><ul class=\"toc-item\"><li><span><a href=\"#Load-labels,-locs,-years\" data-toc-modified-id=\"Load-labels,-locs,-years-2.1\"><span class=\"toc-item-num\">2.1&nbsp;&nbsp;</span>Load labels, locs, years</a></span></li><li><span><a href=\"#Load-LSMS-DataFrame\" data-toc-modified-id=\"Load-LSMS-DataFrame-2.2\"><span class=\"toc-item-num\">2.2&nbsp;&nbsp;</span>Load LSMS DataFrame</a></span></li><li><span><a href=\"#Load-delta-pairs\" data-toc-modified-id=\"Load-delta-pairs-2.3\"><span class=\"toc-item-num\">2.3&nbsp;&nbsp;</span>Load delta pairs</a></span></li><li><span><a href=\"#Create-country-labels\" data-toc-modified-id=\"Create-country-labels-2.4\"><span class=\"toc-item-num\">2.4&nbsp;&nbsp;</span>Create country labels</a></span></li><li><span><a href=\"#Load-folds\" data-toc-modified-id=\"Load-folds-2.5\"><span class=\"toc-item-num\">2.5&nbsp;&nbsp;</span>Load folds</a></span></li><li><span><a href=\"#For-Analysis\" data-toc-modified-id=\"For-Analysis-2.6\"><span class=\"toc-item-num\">2.6&nbsp;&nbsp;</span>For Analysis</a></span></li></ul></li><li><span><a href=\"#Vanilla-DHS-Models---OOC\" data-toc-modified-id=\"Vanilla-DHS-Models---OOC-3\"><span class=\"toc-item-num\">3&nbsp;&nbsp;</span>Vanilla DHS Models - OOC</a></span><ul class=\"toc-item\"><li><span><a href=\"#Changes-over-time\" data-toc-modified-id=\"Changes-over-time-3.1\"><span class=\"toc-item-num\">3.1&nbsp;&nbsp;</span>Changes over time</a></span></li></ul></li><li><span><a href=\"#Models-Fine-Tuned-on-LSMS---OOC\" data-toc-modified-id=\"Models-Fine-Tuned-on-LSMS---OOC-4\"><span class=\"toc-item-num\">4&nbsp;&nbsp;</span>Models Fine-Tuned on LSMS - OOC</a></span><ul class=\"toc-item\"><li><span><a href=\"#Changes-over-time\" data-toc-modified-id=\"Changes-over-time-4.1\"><span class=\"toc-item-num\">4.1&nbsp;&nbsp;</span>Changes over time</a></span></li></ul></li><li><span><a href=\"#TODO:-Vanilla-DHS-Models---Incountry\" data-toc-modified-id=\"TODO:-Vanilla-DHS-Models---Incountry-5\"><span class=\"toc-item-num\">5&nbsp;&nbsp;</span>TODO: Vanilla DHS Models - Incountry</a></span><ul class=\"toc-item\"><li><span><a href=\"#Changes-over-time\" data-toc-modified-id=\"Changes-over-time-5.1\"><span class=\"toc-item-num\">5.1&nbsp;&nbsp;</span>Changes over time</a></span></li></ul></li><li><span><a href=\"#TODO:-Models-Fine-Tuned-on-LSMS---Incountry\" data-toc-modified-id=\"TODO:-Models-Fine-Tuned-on-LSMS---Incountry-6\"><span class=\"toc-item-num\">6&nbsp;&nbsp;</span>TODO: Models Fine-Tuned on LSMS - Incountry</a></span><ul class=\"toc-item\"><li><span><a href=\"#Changes-over-time\" data-toc-modified-id=\"Changes-over-time-6.1\"><span class=\"toc-item-num\">6.1&nbsp;&nbsp;</span>Changes over time</a></span></li></ul></li><li><span><a href=\"#Models-Trained-on-LSMS---Incountry\" data-toc-modified-id=\"Models-Trained-on-LSMS---Incountry-7\"><span class=\"toc-item-num\">7&nbsp;&nbsp;</span>Models Trained on LSMS - Incountry</a></span><ul class=\"toc-item\"><li><span><a href=\"#Changes-over-time\" data-toc-modified-id=\"Changes-over-time-7.1\"><span class=\"toc-item-num\">7.1&nbsp;&nbsp;</span>Changes over time</a></span></li></ul></li></ul></div>"
   ]
  },
  {
   "cell_type": "markdown",
   "metadata": {},
   "source": [
    "# Imports and Constants"
   ]
  },
  {
   "cell_type": "code",
   "execution_count": null,
   "metadata": {},
   "outputs": [],
   "source": [
    "%load_ext autoreload\n",
    "%autoreload 2\n",
    "%matplotlib inline"
   ]
  },
  {
   "cell_type": "code",
   "execution_count": null,
   "metadata": {},
   "outputs": [],
   "source": [
    "from collections import defaultdict\n",
    "import os\n",
    "import pickle\n",
    "import sys\n",
    "\n",
    "import matplotlib.pyplot as plt\n",
    "import numpy as np\n",
    "import pandas as pd\n",
    "import seaborn as sns\n",
    "\n",
    "sys.path.append('../')\n",
    "from batchers import dataset_constants\n",
    "from utils.analysis import calc_score, evaluate, evaluate_df\n",
    "from utils.general import colordisplay, load_npz\n",
    "from utils.plot import symmetric_heatmap"
   ]
  },
  {
   "cell_type": "code",
   "execution_count": null,
   "metadata": {},
   "outputs": [],
   "source": [
    "CKPT_ROOT_DIR = '../ckpts/'\n",
    "LOGS_ROOT_DIR = '../logs/'\n",
    "\n",
    "BANDS = ['ms', 'msnl', 'nl', 'rgb', 'rgbnl']\n",
    "MODEL_BANDS = ['ms', 'msnl', 'nl', 'rgb', 'rgbnl', 'msnl_concat', 'rgbnl_concat']\n",
    "FOLDS = ['A', 'B', 'C', 'D', 'E']\n",
    "SPLITS = ['train', 'val', 'test']"
   ]
  },
  {
   "cell_type": "markdown",
   "metadata": {},
   "source": [
    "# Load Data"
   ]
  },
  {
   "cell_type": "markdown",
   "metadata": {},
   "source": [
    "## Load labels, locs, years"
   ]
  },
  {
   "cell_type": "code",
   "execution_count": null,
   "metadata": {},
   "outputs": [],
   "source": [
    "npz = load_npz('../data/lsms_image_hists.npz')\n",
    "labels = npz['labels']\n",
    "locs = npz['locs']\n",
    "years = npz['years']\n",
    "num_examples = len(labels)"
   ]
  },
  {
   "cell_type": "markdown",
   "metadata": {},
   "source": [
    "## Load LSMS DataFrame"
   ]
  },
  {
   "cell_type": "code",
   "execution_count": null,
   "metadata": {},
   "outputs": [],
   "source": [
    "# file that Anne sent to me\n",
    "LSMS_CSV_PATH = '../data/lsms_labels_agg.csv'\n",
    "lsms_df = pd.read_csv(LSMS_CSV_PATH, float_precision='high')\n",
    "lsms_df['lat'] = lsms_df['lat'].astype(np.float32)\n",
    "lsms_df['lon'] = lsms_df['lon'].astype(np.float32)\n",
    "lsms_df['index'] = lsms_df['index'].astype(np.float32)\n",
    "lsms_df['year'] = lsms_df['year'].astype(np.float32)\n",
    "\n",
    "with pd.option_context('display.max_rows', 8):\n",
    "    print(lsms_df.dtypes)\n",
    "    display(lsms_df)"
   ]
  },
  {
   "cell_type": "markdown",
   "metadata": {},
   "source": [
    "## Load delta pairs"
   ]
  },
  {
   "cell_type": "code",
   "execution_count": null,
   "metadata": {},
   "outputs": [],
   "source": [
    "delta_pairs_df = pd.read_csv('../data/lsms_deltas_pairs.csv', index_col=False)\n",
    "with pd.option_context('display.max_rows', 4):\n",
    "    display(delta_pairs_df)"
   ]
  },
  {
   "cell_type": "markdown",
   "metadata": {},
   "source": [
    "## Create country labels"
   ]
  },
  {
   "cell_type": "code",
   "execution_count": null,
   "metadata": {},
   "outputs": [],
   "source": [
    "CID_TO_C = {\n",
    "    'et': 'ethiopia',\n",
    "    'mw': 'malawi',\n",
    "    'ng': 'nigeria',\n",
    "    'tz': 'tanzania',\n",
    "    'ug': 'uganda',\n",
    "}\n",
    "LSMS_COUNTRIES = dataset_constants.LSMS_COUNTRIES\n",
    "\n",
    "country_to_years = {\n",
    "    'ethiopia': [2011, 2015],\n",
    "    'malawi': [2010, 2016],\n",
    "    'nigeria': [2010, 2015],\n",
    "    'tanzania': [2008, 2012],\n",
    "    'uganda': [2005, 2009, 2013],\n",
    "}\n",
    "\n",
    "CYs = dataset_constants.SURVEY_NAMES['LSMS']"
   ]
  },
  {
   "cell_type": "code",
   "execution_count": null,
   "metadata": {},
   "outputs": [],
   "source": [
    "# create mapping: loc => country\n",
    "loc_to_country = (lsms_df\n",
    "    .groupby(['lat', 'lon'])\n",
    "    .apply(lambda df: df['country'].iloc[0])\n",
    "    .map(CID_TO_C)\n",
    "    .to_dict())"
   ]
  },
  {
   "cell_type": "code",
   "execution_count": null,
   "metadata": {},
   "outputs": [],
   "source": [
    "country_indices = defaultdict(list)  # country => np.array of indices\n",
    "country_labels = np.zeros(num_examples, dtype=np.int32)  # np.array of country labels\n",
    "\n",
    "for i, loc in enumerate(locs):\n",
    "    country = loc_to_country[tuple(loc)]\n",
    "    country_indices[country].append(i)\n",
    "\n",
    "for i, country in enumerate(LSMS_COUNTRIES):\n",
    "    country_indices[country] = np.asarray(country_indices[country])\n",
    "    indices = country_indices[country]\n",
    "    country_labels[indices] = i"
   ]
  },
  {
   "cell_type": "code",
   "execution_count": null,
   "metadata": {},
   "outputs": [],
   "source": [
    "cy_sizes = [dataset_constants.SIZES['LSMS'][cy] for cy in CYs]\n",
    "NUM_LSMS = np.sum(cy_sizes)\n",
    "cy_indices = np.split(np.arange(NUM_LSMS), np.cumsum(cy_sizes))\n",
    "CY_INDICES = {cy: cy_indices[i] for i, cy in enumerate(CYs)}\n",
    "CY_TO_INDEX = {cy: i for i, cy in enumerate(CYs)}"
   ]
  },
  {
   "cell_type": "markdown",
   "metadata": {},
   "source": [
    "## Load folds\n",
    "\n",
    "```\n",
    "folds = {\n",
    "    'A': { 'test': array([7,   10,   11, ...]),\n",
    "           'val': array([2,    8,   17, ...]),\n",
    "           'train': array([0,    1,    3, ...])},\n",
    "    'B': { 'test': array([   2,    8,   17, ...]),\n",
    "           ... },\n",
    "    ...\n",
    "}\n",
    "```"
   ]
  },
  {
   "cell_type": "code",
   "execution_count": null,
   "metadata": {},
   "outputs": [],
   "source": [
    "with open('../data/lsms_incountry_folds.pkl', 'rb') as f:\n",
    "    folds = pickle.load(f)"
   ]
  },
  {
   "cell_type": "markdown",
   "metadata": {},
   "source": [
    "## For Analysis"
   ]
  },
  {
   "cell_type": "code",
   "execution_count": null,
   "metadata": {},
   "outputs": [],
   "source": [
    "def calc_diff(df, y1, y2, diff_cols, kind):\n",
    "    '''\n",
    "    Args\n",
    "    - df: pd.DataFrame\n",
    "    '''\n",
    "    a = df.loc[df['year'] == y1, diff_cols].iloc[0]\n",
    "    b = df.loc[df['year'] == y2, diff_cols].iloc[0]\n",
    "    if kind == 'raw':\n",
    "        return b - a\n",
    "    elif kind == 'relative':\n",
    "        return (b - a) / np.abs(a)\n",
    "    else:\n",
    "        raise ValueError('Unknown `kind` argument')\n",
    "\n",
    "def diff_scatter(diff_df, xlabel=None, title=None):\n",
    "    '''\n",
    "    Args\n",
    "    - diff_df: pd.DataFrame, contains columns ['wealthpooled'] + MODEL_BANDS\n",
    "    - xlabel: str\n",
    "    - title: str, figure title\n",
    "    '''\n",
    "    ncols = len(MODEL_BANDS)\n",
    "    fig, axs = plt.subplots(nrows=1, ncols=ncols, sharey=True, figsize=[ncols*2.5, 3])\n",
    "    for i, model_bands in enumerate(MODEL_BANDS):\n",
    "        ax = axs[i]\n",
    "        r2 = calc_score(labels=diff_df['wealthpooled'], preds=diff_df[model_bands], metric='r2')\n",
    "        label = 'r2: {:.2f}'.format(r2)\n",
    "        sns.regplot(x=diff_df['wealthpooled'], y=diff_df[model_bands],\n",
    "                    ax=ax, label=label, scatter_kws={'s': 3})\n",
    "        # ax.scatter(diff_df['wealthpooled'], diff_df[model_bands], s=3)\n",
    "        ax.grid(True)\n",
    "        ax.plot([-2, 3], [-2, 3], color='black')\n",
    "        ax.set_aspect('equal')\n",
    "        ax.set_ylabel(model_bands)\n",
    "        ax.legend()\n",
    "        if xlabel is not None:\n",
    "            ax.set_xlabel(xlabel)\n",
    "    if title is not None:\n",
    "        fig.suptitle(title, y=1.0)\n",
    "    fig.tight_layout()\n",
    "\n",
    "def analyze_changes(preds_df, country, y1, y2, model=None):\n",
    "    '''\n",
    "    Args\n",
    "    - preds_df: pd.DataFrame, columns ['country', 'lat', 'lon', 'year', 'wealthpooled'] + MODEL_BANDS\n",
    "    - country: str\n",
    "    - y1, y2: ints, years\n",
    "    - model: str, one of ['OOC', 'incountry']\n",
    "    '''\n",
    "    grouped = (\n",
    "        preds_df\n",
    "        .groupby('country')\n",
    "        .get_group(country)\n",
    "        .groupby(['lat', 'lon'])\n",
    "        .filter(lambda df: (y1 in df['year'].values) and (y2 in df['year'].values))\n",
    "        .groupby(['lat', 'lon']))\n",
    "\n",
    "    # diff: pd.DataFrame\n",
    "    # - columns: ['wealthpooled'] + MODEL_BANDS,\n",
    "    # - rows: each row corresponds to a (lat, lon)\n",
    "    # - values: the difference in the model's prediction, y2 - y1\n",
    "    diff_cols = ['wealthpooled'] + MODEL_BANDS\n",
    "    diff_raw = grouped.apply(lambda df: calc_diff(df, y1, y2, diff_cols, kind='raw'))\n",
    "#     diff_rel = grouped.apply(lambda df: calc_diff(df, y1, y2, diff_cols, kind='relative'))\n",
    "\n",
    "    title = f'{country} ({y2}-{y1})'\n",
    "    if model is not None:\n",
    "        title += f' {model}'\n",
    "\n",
    "    # print counts of +,0,-\n",
    "    signs_df = np.sign(diff_raw)\n",
    "    label_signs = signs_df['wealthpooled']\n",
    "    unique, unique_counts = np.unique(label_signs, return_counts=True)\n",
    "\n",
    "    # percentage match in sign\n",
    "    perc_series = signs_df[MODEL_BANDS].apply(\n",
    "            lambda col: np.sum(label_signs == col),\n",
    "            axis=0) / len(label_signs)\n",
    "    perc_series['majority'] = np.max(unique_counts) / len(label_signs)\n",
    "    ax = perc_series.plot.barh(width=0.9, grid=True, title=title, figsize=[3, 2])\n",
    "    ax.set_xlabel('% match in sign')\n",
    "    plt.show()\n",
    "\n",
    "    # correlational heatmaps\n",
    "    xlabels = ['wealthpooled'] + MODEL_BANDS\n",
    "    symmetric_heatmap(diff_raw.corr().values, labels=xlabels, title=title, format_spec='{:.2f}')\n",
    "#     heatmap(diff_rel.corr().values, xlabels=xlabels, ylabels=xlabels, title=title)\n",
    "\n",
    "    diff_scatter(diff_raw, title=title + ' raw', xlabel='y2 - y1')\n",
    "#     diff_scatter(diff_rel, title=title + ' rel', xlabel='(y2 - y1)/y2')"
   ]
  },
  {
   "cell_type": "markdown",
   "metadata": {},
   "source": [
    "# Vanilla DHS Models - OOC"
   ]
  },
  {
   "cell_type": "code",
   "execution_count": null,
   "metadata": {},
   "outputs": [],
   "source": [
    "# load saved preds\n",
    "# preds = {\n",
    "#     'ms': np.array, shape [N],\n",
    "#     'msnl': ...,\n",
    "#     ...\n",
    "# }\n",
    "preds = {\n",
    "    bands: load_npz(\n",
    "        path=os.path.join(LOGS_ROOT_DIR, 'lsms_from_dhs', f'ooc_{bands}_preds.npz'),\n",
    "        check=dict(locs=locs, labels=labels))['preds']\n",
    "    for bands in MODEL_BANDS\n",
    "}"
   ]
  },
  {
   "cell_type": "code",
   "execution_count": null,
   "metadata": {},
   "outputs": [],
   "source": [
    "preds_df = pd.DataFrame(\n",
    "    columns=['lat', 'lon', 'country_year', 'country', 'year', 'wealthpooled'] + MODEL_BANDS)\n",
    "preds_df['lat'] = locs[:, 0]\n",
    "preds_df['lon'] = locs[:, 1]\n",
    "\n",
    "for cy, cy_indices in CY_INDICES.items():\n",
    "    preds_df.loc[cy_indices, 'country_year'] = cy\n",
    "    c, y = cy.rsplit('_', maxsplit=1)\n",
    "    preds_df.loc[cy_indices, 'country'] = c\n",
    "    preds_df.loc[cy_indices, 'year'] = int(y)\n",
    "\n",
    "preds_df['wealthpooled'] = labels\n",
    "\n",
    "for model_name in MODEL_BANDS:\n",
    "    preds_df[model_name] = preds[model_name]\n",
    "\n",
    "# csv_path = os.path.join(BASE_CSV_DIR, 'lsms_preds_ooc.csv')\n",
    "# preds_df.to_csv(csv_path, index=False)\n",
    "\n",
    "with pd.option_context('display.max_rows', 8):\n",
    "    print(preds_df.dtypes)\n",
    "    display(preds_df)"
   ]
  },
  {
   "cell_type": "code",
   "execution_count": null,
   "metadata": {},
   "outputs": [],
   "source": [
    "ooc_df = pd.DataFrame(columns=['country_year', 'model', 'r2', 'R2', 'mse', 'rank'], dtype=np.float64)\n",
    "ooc_df.set_index(['country_year', 'model'], inplace=True)\n",
    "\n",
    "for cy in CYs:\n",
    "    cy_indices = CY_INDICES[cy]\n",
    "    for i, model_name in enumerate(MODEL_BANDS):\n",
    "        model_preds = preds[model_name][cy_indices]\n",
    "        ooc_df.loc[(cy, model_name), :] = evaluate(\n",
    "            preds=model_preds, labels=labels[cy_indices])\n",
    "\n",
    "with pd.option_context('display.max_rows', 5):\n",
    "    display(ooc_df)"
   ]
  },
  {
   "cell_type": "code",
   "execution_count": null,
   "metadata": {
    "scrolled": false
   },
   "outputs": [],
   "source": [
    "display(ooc_df['r2'].unstack(level='model'))\n",
    "display(ooc_df['R2'].unstack(level='model'))"
   ]
  },
  {
   "cell_type": "markdown",
   "metadata": {},
   "source": [
    "## Changes over time"
   ]
  },
  {
   "cell_type": "code",
   "execution_count": null,
   "metadata": {},
   "outputs": [],
   "source": [
    "idx1 = delta_pairs_df['index1']\n",
    "idx2 = delta_pairs_df['index2']\n",
    "bands = MODEL_BANDS + ['wealthpooled']\n",
    "delta_preds_df = preds_df.loc[idx2, bands].reset_index(drop=True) - preds_df.loc[idx1, bands].reset_index(drop=True)\n",
    "delta_preds_df.rename({'wealthpooled': 'label'}, axis=1, inplace=True)\n",
    "display(evaluate_df(delta_preds_df, cols=MODEL_BANDS))"
   ]
  },
  {
   "cell_type": "code",
   "execution_count": null,
   "metadata": {
    "scrolled": true
   },
   "outputs": [],
   "source": [
    "analyze_changes(preds_df, 'ethiopia', y1=2011, y2=2015, model='OOC')"
   ]
  },
  {
   "cell_type": "code",
   "execution_count": null,
   "metadata": {
    "scrolled": true
   },
   "outputs": [],
   "source": [
    "analyze_changes(preds_df, 'malawi', y1=2010, y2=2016, model='OOC')"
   ]
  },
  {
   "cell_type": "code",
   "execution_count": null,
   "metadata": {
    "scrolled": true
   },
   "outputs": [],
   "source": [
    "analyze_changes(preds_df, 'nigeria', y1=2010, y2=2015, model='OOC')"
   ]
  },
  {
   "cell_type": "code",
   "execution_count": null,
   "metadata": {
    "scrolled": true
   },
   "outputs": [],
   "source": [
    "analyze_changes(preds_df, 'tanzania', y1=2008, y2=2012, model='OOC')"
   ]
  },
  {
   "cell_type": "code",
   "execution_count": null,
   "metadata": {
    "scrolled": true
   },
   "outputs": [],
   "source": [
    "analyze_changes(preds_df, 'uganda', y1=2005, y2=2009, model='OOC')"
   ]
  },
  {
   "cell_type": "code",
   "execution_count": null,
   "metadata": {
    "scrolled": true
   },
   "outputs": [],
   "source": [
    "analyze_changes(preds_df, 'uganda', y1=2005, y2=2013, model='OOC')"
   ]
  },
  {
   "cell_type": "code",
   "execution_count": null,
   "metadata": {},
   "outputs": [],
   "source": [
    "analyze_changes(preds_df, 'uganda', y1=2009, y2=2013, model='OOC')"
   ]
  },
  {
   "cell_type": "markdown",
   "metadata": {},
   "source": [
    "# Models Fine-Tuned on LSMS - OOC"
   ]
  },
  {
   "cell_type": "code",
   "execution_count": null,
   "metadata": {},
   "outputs": [],
   "source": [
    "# load saved preds\n",
    "# preds = {\n",
    "#     'ms': np.array, shape [N],\n",
    "#     'msnl': ...,\n",
    "#     ...\n",
    "# }\n",
    "preds = {\n",
    "    bands: load_npz(\n",
    "        path=os.path.join(LOGS_ROOT_DIR, 'lsms_from_dhs_finetune', f'ooc_{bands}_preds.npz'),\n",
    "        check=dict(locs=locs, labels=labels))['preds']\n",
    "    for bands in MODEL_BANDS\n",
    "}"
   ]
  },
  {
   "cell_type": "code",
   "execution_count": null,
   "metadata": {},
   "outputs": [],
   "source": [
    "preds_df = pd.DataFrame(\n",
    "    columns=['lat', 'lon', 'country_year', 'country', 'year', 'wealthpooled'] + MODEL_BANDS)\n",
    "preds_df['lat'] = locs[:, 0]\n",
    "preds_df['lon'] = locs[:, 1]\n",
    "\n",
    "for cy, cy_indices in CY_INDICES.items():\n",
    "    preds_df.loc[cy_indices, 'country_year'] = cy\n",
    "    c, y = cy.rsplit('_', maxsplit=1)\n",
    "    preds_df.loc[cy_indices, 'country'] = c\n",
    "    preds_df.loc[cy_indices, 'year'] = int(y)\n",
    "\n",
    "preds_df['wealthpooled'] = labels\n",
    "\n",
    "for model_name in MODEL_BANDS:\n",
    "    preds_df[model_name] = preds[model_name]\n",
    "\n",
    "# csv_path = os.path.join(BASE_CSV_DIR, 'lsms_preds_ooc.csv')\n",
    "# preds_df.to_csv(csv_path, index=False)\n",
    "\n",
    "with pd.option_context('display.max_rows', 8):\n",
    "    print(preds_df.dtypes)\n",
    "    display(preds_df)"
   ]
  },
  {
   "cell_type": "code",
   "execution_count": null,
   "metadata": {},
   "outputs": [],
   "source": [
    "ooc_df = pd.DataFrame(columns=['country_year', 'model', 'r2', 'R2', 'mse', 'rank'], dtype=np.float64)\n",
    "ooc_df.set_index(['country_year', 'model'], inplace=True)\n",
    "\n",
    "for cy in CYs:\n",
    "    cy_indices = CY_INDICES[cy]\n",
    "    for i, model_name in enumerate(MODEL_BANDS):\n",
    "        model_preds = preds[model_name][cy_indices]\n",
    "        ooc_df.loc[(cy, model_name), :] = evaluate(\n",
    "            preds=model_preds, labels=labels[cy_indices])\n",
    "\n",
    "with pd.option_context('display.max_rows', 8):\n",
    "    display(ooc_df)"
   ]
  },
  {
   "cell_type": "code",
   "execution_count": null,
   "metadata": {
    "scrolled": false
   },
   "outputs": [],
   "source": [
    "r2s_df = ooc_df['r2'].unstack(level='model')\n",
    "display(r2s_df)\n",
    "\n",
    "R2s_df = ooc_df['R2'].unstack(level='model')\n",
    "display(R2s_df)"
   ]
  },
  {
   "cell_type": "markdown",
   "metadata": {},
   "source": [
    "## Changes over time"
   ]
  },
  {
   "cell_type": "code",
   "execution_count": null,
   "metadata": {},
   "outputs": [],
   "source": [
    "idx1 = delta_pairs_df['index1']\n",
    "idx2 = delta_pairs_df['index2']\n",
    "bands = MODEL_BANDS + ['wealthpooled']\n",
    "delta_preds_df = preds_df.loc[idx2, bands].reset_index(drop=True) - preds_df.loc[idx1, bands].reset_index(drop=True)\n",
    "delta_preds_df.rename({'wealthpooled': 'label'}, axis=1, inplace=True)\n",
    "display(evaluate_df(delta_preds_df, cols=MODEL_BANDS))"
   ]
  },
  {
   "cell_type": "code",
   "execution_count": null,
   "metadata": {},
   "outputs": [],
   "source": [
    "analyze_changes(preds_df, 'ethiopia', y1=2011, y2=2015, model='OOC')"
   ]
  },
  {
   "cell_type": "code",
   "execution_count": null,
   "metadata": {
    "scrolled": true
   },
   "outputs": [],
   "source": [
    "analyze_changes(preds_df, 'malawi', y1=2010, y2=2016, model='OOC')"
   ]
  },
  {
   "cell_type": "code",
   "execution_count": null,
   "metadata": {
    "scrolled": true
   },
   "outputs": [],
   "source": [
    "analyze_changes(preds_df, 'nigeria', y1=2010, y2=2015, model='OOC')"
   ]
  },
  {
   "cell_type": "code",
   "execution_count": null,
   "metadata": {
    "scrolled": true
   },
   "outputs": [],
   "source": [
    "analyze_changes(preds_df, 'tanzania', y1=2008, y2=2012, model='OOC')"
   ]
  },
  {
   "cell_type": "code",
   "execution_count": null,
   "metadata": {
    "scrolled": true
   },
   "outputs": [],
   "source": [
    "analyze_changes(preds_df, 'uganda', y1=2005, y2=2009, model='OOC')"
   ]
  },
  {
   "cell_type": "code",
   "execution_count": null,
   "metadata": {
    "scrolled": true
   },
   "outputs": [],
   "source": [
    "analyze_changes(preds_df, 'uganda', y1=2005, y2=2013, model='OOC')"
   ]
  },
  {
   "cell_type": "code",
   "execution_count": null,
   "metadata": {
    "scrolled": true
   },
   "outputs": [],
   "source": [
    "analyze_changes(preds_df, 'uganda', y1=2009, y2=2013, model='OOC')"
   ]
  },
  {
   "cell_type": "markdown",
   "metadata": {},
   "source": [
    "# TODO: Vanilla DHS Models - Incountry\n",
    "Run each of the 5 incountry models, take the mean prediction\n",
    "\n",
    "TODO: this will need to be re-run after re-training the non-overlap DHS incountry models"
   ]
  },
  {
   "cell_type": "code",
   "execution_count": null,
   "metadata": {},
   "outputs": [],
   "source": [
    "# load labels and locs\n",
    "# npz_path = os.path.join(LOGS_ROOT_DIR, 'lsms', 'incountry_ms_preds.npz')\n",
    "# _ = load_npz(npz_path, check_labels=labels, check_locs=locs)"
   ]
  },
  {
   "cell_type": "code",
   "execution_count": null,
   "metadata": {
    "scrolled": true
   },
   "outputs": [],
   "source": [
    "# load saved preds\n",
    "# preds = {\n",
    "#     'ms': np.array, shape [M, N] where M = number of folds (ie. 1 row per fold)\n",
    "#     'msnl': ...,\n",
    "#     ...\n",
    "# }\n",
    "# preds = {}\n",
    "# for bands in MODEL_BANDS:\n",
    "#     npz = load_npz(\n",
    "#         path=os.path.join(LOGS_ROOT_DIR, 'lsms', f'incountry_{bands}_preds.npz'),\n",
    "#         check_locs=locs, check_labels=labels\n",
    "#     )\n",
    "#     preds[bands] = np.stack([npz[f'{bands}_{fold}'] for fold in FOLDS], axis=0)"
   ]
  },
  {
   "cell_type": "code",
   "execution_count": null,
   "metadata": {},
   "outputs": [],
   "source": [
    "# mean_preds_df = pd.DataFrame(\n",
    "#     columns=['lat', 'lon', 'country_year', 'wealthpooled'] + MODEL_BANDS)\n",
    "# mean_preds_df['lat'] = locs[:, 0]\n",
    "# mean_preds_df['lon'] = locs[:, 1]\n",
    "\n",
    "# for cy, cy_indices in CY_INDICES.items():\n",
    "#     mean_preds_df.loc[cy_indices, 'country_year'] = cy\n",
    "#     c, y = cy.rsplit('_', maxsplit=1)\n",
    "#     mean_preds_df.loc[cy_indices, 'country'] = c\n",
    "#     mean_preds_df.loc[cy_indices, 'year'] = int(y)\n",
    "\n",
    "# mean_preds_df['wealthpooled'] = labels\n",
    "\n",
    "# for model_name in MODEL_BANDS:\n",
    "#     mean_preds_df[model_name] = np.mean(preds[model_name], axis=0)\n",
    "\n",
    "# csv_path = os.path.join(BASE_CSV_DIR, 'lsms_mean_preds_incountry.csv')\n",
    "# # mean_preds_df.to_csv(csv_path, index=False)\n",
    "\n",
    "\n",
    "# median_preds_df = mean_preds_df.copy(deep=True)\n",
    "# for model_name in MODEL_BANDS:\n",
    "#     median_preds_df[model_name] = np.median(preds[model_name], axis=0)\n",
    "\n",
    "# csv_path = os.path.join(BASE_CSV_DIR, 'lsms_median_preds_incountry.csv')\n",
    "# # median_preds_df.to_csv(csv_path, index=False)"
   ]
  },
  {
   "cell_type": "code",
   "execution_count": null,
   "metadata": {},
   "outputs": [],
   "source": [
    "# incountry_df = pd.DataFrame(columns=['country_year', 'model', 'fold', 'metric', 'score'], dtype=np.float64)\n",
    "# incountry_df.set_index(['country_year', 'model', 'fold', 'metric'], inplace=True)\n",
    "\n",
    "# for cy in CYs:\n",
    "#     cy_indices = CY_INDICES[cy]\n",
    "#     for model_name in MODEL_BANDS:\n",
    "#         for metric in ['r2', 'R2', 'mse', 'rank']:\n",
    "#             for j, fold in enumerate(FOLDS):\n",
    "#                 incountry_df.loc[(cy, model_name, fold, metric)] = calc_score(\n",
    "#                     preds=preds[model_name][j][cy_indices], labels=labels[cy_indices], metric=metric)\n",
    "#             incountry_df.loc[(cy, model_name, 'mean', metric)] = calc_score(\n",
    "#                 preds=np.mean(preds[model_name], axis=0)[cy_indices], labels=labels[cy_indices], metric=metric)\n",
    "#             incountry_df.loc[(cy, model_name, 'median', metric)] = calc_score(\n",
    "#                 preds=np.median(preds[model_name], axis=0)[cy_indices], labels=labels[cy_indices], metric=metric)"
   ]
  },
  {
   "cell_type": "code",
   "execution_count": null,
   "metadata": {},
   "outputs": [],
   "source": [
    "# with pd.option_context('display.max_rows', 14):\n",
    "#     display(incountry_df.unstack('metric'))"
   ]
  },
  {
   "cell_type": "code",
   "execution_count": null,
   "metadata": {},
   "outputs": [],
   "source": [
    "# display(\n",
    "#     incountry_df.xs(['r2', 'mean'], level=['metric', 'fold']).unstack(level='model')\n",
    "# )\n",
    "# display(\n",
    "#     incountry_df.xs(['r2', 'median'], level=['metric', 'fold']).unstack(level='model')\n",
    "# )"
   ]
  },
  {
   "cell_type": "code",
   "execution_count": null,
   "metadata": {},
   "outputs": [],
   "source": [
    "# display(\n",
    "#     incountry_df.xs(['R2', 'mean'], level=['metric', 'fold']).unstack(level='model')\n",
    "# )\n",
    "# display(\n",
    "#     incountry_df.xs(['R2', 'median'], level=['metric', 'fold']).unstack(level='model')\n",
    "# )"
   ]
  },
  {
   "cell_type": "markdown",
   "metadata": {},
   "source": [
    "## Changes over time"
   ]
  },
  {
   "cell_type": "code",
   "execution_count": null,
   "metadata": {
    "scrolled": true
   },
   "outputs": [],
   "source": [
    "# analyze_changes(mean_preds_df, 'ethiopia', y1=2011, y2=2015, model='incountry')"
   ]
  },
  {
   "cell_type": "code",
   "execution_count": null,
   "metadata": {
    "scrolled": true
   },
   "outputs": [],
   "source": [
    "# analyze_changes(mean_preds_df, 'malawi', y1=2010, y2=2016, model='incountry')"
   ]
  },
  {
   "cell_type": "code",
   "execution_count": null,
   "metadata": {
    "scrolled": true
   },
   "outputs": [],
   "source": [
    "# analyze_changes(mean_preds_df, 'nigeria', y1=2010, y2=2015, model='incountry')"
   ]
  },
  {
   "cell_type": "code",
   "execution_count": null,
   "metadata": {
    "scrolled": true
   },
   "outputs": [],
   "source": [
    "# analyze_changes(mean_preds_df, 'tanzania', y1=2008, y2=2012, model='incountry')"
   ]
  },
  {
   "cell_type": "code",
   "execution_count": null,
   "metadata": {
    "scrolled": true
   },
   "outputs": [],
   "source": [
    "# analyze_changes(mean_preds_df, 'uganda', y1=2005, y2=2009, model='incountry')"
   ]
  },
  {
   "cell_type": "code",
   "execution_count": null,
   "metadata": {
    "scrolled": true
   },
   "outputs": [],
   "source": [
    "# analyze_changes(mean_preds_df, 'uganda', y1=2005, y2=2013, model='incountry')"
   ]
  },
  {
   "cell_type": "code",
   "execution_count": null,
   "metadata": {
    "scrolled": true
   },
   "outputs": [],
   "source": [
    "# analyze_changes(mean_preds_df, 'uganda', y1=2009, y2=2013, model='incountry')"
   ]
  },
  {
   "cell_type": "markdown",
   "metadata": {},
   "source": [
    "# TODO: Models Fine-Tuned on LSMS - Incountry\n",
    "Run each of the 5 incountry models, take the mean prediction\n",
    "\n",
    "TODO: this will need to be re-run after re-training the non-overlap DHS incountry models"
   ]
  },
  {
   "cell_type": "code",
   "execution_count": null,
   "metadata": {},
   "outputs": [],
   "source": [
    "# # load labels and locs\n",
    "# npz_path = os.path.join(LOGS_ROOT_DIR, 'lsms_ridge', 'incountry_ms_preds.npz')\n",
    "# _ = load_npz(npz_path, check_labels=labels, check_locs=locs)"
   ]
  },
  {
   "cell_type": "code",
   "execution_count": null,
   "metadata": {
    "scrolled": true
   },
   "outputs": [],
   "source": [
    "# # load saved preds\n",
    "# # preds = {\n",
    "# #     'ms': np.array, shape [M, N] where M = number of folds (ie. 1 row per fold)\n",
    "# #     'msnl': ...,\n",
    "# #     ...\n",
    "# # }\n",
    "# preds = {}\n",
    "# for bands in MODEL_BANDS:\n",
    "#     npz = load_npz(\n",
    "#         path=os.path.join(LOGS_ROOT_DIR, 'lsms_ridge', f'incountry_{bands}_preds.npz'),\n",
    "#         check_locs=locs, check_labels=labels\n",
    "#     )\n",
    "#     preds[bands] = np.stack([npz[f'{bands}_{fold}'] for fold in FOLDS], axis=0)"
   ]
  },
  {
   "cell_type": "code",
   "execution_count": null,
   "metadata": {},
   "outputs": [],
   "source": [
    "# mean_preds_df = pd.DataFrame(\n",
    "#     columns=['lat', 'lon', 'country_year', 'wealthpooled'] + MODEL_BANDS)\n",
    "# mean_preds_df['lat'] = locs[:, 0]\n",
    "# mean_preds_df['lon'] = locs[:, 1]\n",
    "\n",
    "# for cy, cy_indices in CY_INDICES.items():\n",
    "#     mean_preds_df.loc[cy_indices, 'country_year'] = cy\n",
    "#     c, y = cy.rsplit('_', maxsplit=1)\n",
    "#     mean_preds_df.loc[cy_indices, 'country'] = c\n",
    "#     mean_preds_df.loc[cy_indices, 'year'] = int(y)\n",
    "\n",
    "# mean_preds_df['wealthpooled'] = labels\n",
    "\n",
    "# for model_name in MODEL_BANDS:\n",
    "#     mean_preds_df[model_name] = np.mean(preds[model_name], axis=0)\n",
    "\n",
    "# csv_path = os.path.join(BASE_CSV_DIR, 'lsms_mean_preds_incountry.csv')\n",
    "# # mean_preds_df.to_csv(csv_path, index=False)\n",
    "\n",
    "\n",
    "# median_preds_df = mean_preds_df.copy(deep=True)\n",
    "# for model_name in MODEL_BANDS:\n",
    "#     median_preds_df[model_name] = np.median(preds[model_name], axis=0)\n",
    "\n",
    "# csv_path = os.path.join(BASE_CSV_DIR, 'lsms_median_preds_incountry.csv')\n",
    "# # median_preds_df.to_csv(csv_path, index=False)"
   ]
  },
  {
   "cell_type": "code",
   "execution_count": null,
   "metadata": {},
   "outputs": [],
   "source": [
    "# incountry_df = pd.DataFrame(columns=['country_year', 'model', 'fold', 'metric', 'score'], dtype=np.float64)\n",
    "# incountry_df.set_index(['country_year', 'model', 'fold', 'metric'], inplace=True)\n",
    "\n",
    "# for cy in CYs:\n",
    "#     cy_indices = CY_INDICES[cy]\n",
    "#     for model_name in MODEL_BANDS:\n",
    "#         for metric in ['r2', 'R2', 'mse', 'rank']:\n",
    "#             for j, fold in enumerate(FOLDS):\n",
    "#                 incountry_df.loc[(cy, model_name, fold, metric)] = calc_score(\n",
    "#                     preds=preds[model_name][j][cy_indices], labels=labels[cy_indices], metric=metric)\n",
    "#             incountry_df.loc[(cy, model_name, 'mean', metric)] = calc_score(\n",
    "#                 preds=np.mean(preds[model_name], axis=0)[cy_indices], labels=labels[cy_indices], metric=metric)\n",
    "#             incountry_df.loc[(cy, model_name, 'median', metric)] = calc_score(\n",
    "#                 preds=np.median(preds[model_name], axis=0)[cy_indices], labels=labels[cy_indices], metric=metric)"
   ]
  },
  {
   "cell_type": "code",
   "execution_count": null,
   "metadata": {},
   "outputs": [],
   "source": [
    "# with pd.option_context('display.max_rows', 14):\n",
    "#     display(incountry_df.unstack('metric'))"
   ]
  },
  {
   "cell_type": "code",
   "execution_count": null,
   "metadata": {},
   "outputs": [],
   "source": [
    "# display(\n",
    "#     incountry_df.xs(['r2', 'mean'], level=['metric', 'fold']).unstack(level='model')\n",
    "# )\n",
    "# display(\n",
    "#     incountry_df.xs(['r2', 'median'], level=['metric', 'fold']).unstack(level='model')\n",
    "# )"
   ]
  },
  {
   "cell_type": "code",
   "execution_count": null,
   "metadata": {
    "scrolled": false
   },
   "outputs": [],
   "source": [
    "# display(\n",
    "#     incountry_df.xs(['R2', 'mean'], level=['metric', 'fold']).unstack(level='model')\n",
    "# )\n",
    "# display(\n",
    "#     incountry_df.xs(['R2', 'median'], level=['metric', 'fold']).unstack(level='model')\n",
    "# )"
   ]
  },
  {
   "cell_type": "markdown",
   "metadata": {},
   "source": [
    "## Changes over time"
   ]
  },
  {
   "cell_type": "code",
   "execution_count": null,
   "metadata": {
    "scrolled": true
   },
   "outputs": [],
   "source": [
    "# analyze_changes(mean_preds_df, 'ethiopia', y1=2011, y2=2015, model='incountry')"
   ]
  },
  {
   "cell_type": "code",
   "execution_count": null,
   "metadata": {
    "scrolled": true
   },
   "outputs": [],
   "source": [
    "# analyze_changes(mean_preds_df, 'malawi', y1=2010, y2=2016, model='incountry')"
   ]
  },
  {
   "cell_type": "code",
   "execution_count": null,
   "metadata": {
    "scrolled": true
   },
   "outputs": [],
   "source": [
    "# analyze_changes(mean_preds_df, 'nigeria', y1=2010, y2=2015, model='incountry')"
   ]
  },
  {
   "cell_type": "code",
   "execution_count": null,
   "metadata": {
    "scrolled": true
   },
   "outputs": [],
   "source": [
    "# analyze_changes(mean_preds_df, 'tanzania', y1=2008, y2=2012, model='incountry')"
   ]
  },
  {
   "cell_type": "code",
   "execution_count": null,
   "metadata": {
    "scrolled": true
   },
   "outputs": [],
   "source": [
    "# analyze_changes(mean_preds_df, 'uganda', y1=2005, y2=2009, model='incountry')"
   ]
  },
  {
   "cell_type": "code",
   "execution_count": null,
   "metadata": {
    "scrolled": true
   },
   "outputs": [],
   "source": [
    "# analyze_changes(mean_preds_df, 'uganda', y1=2005, y2=2013, model='incountry')"
   ]
  },
  {
   "cell_type": "code",
   "execution_count": null,
   "metadata": {
    "scrolled": true
   },
   "outputs": [],
   "source": [
    "# analyze_changes(mean_preds_df, 'uganda', y1=2009, y2=2013, model='incountry')"
   ]
  },
  {
   "cell_type": "markdown",
   "metadata": {},
   "source": [
    "# Models Trained on LSMS - Incountry\n",
    "Run each of the 5 incountry models, take the mean prediction"
   ]
  },
  {
   "cell_type": "code",
   "execution_count": null,
   "metadata": {
    "scrolled": true
   },
   "outputs": [],
   "source": [
    "# load saved preds\n",
    "# preds = {\n",
    "#     'lsms_incountry_resnet_ms': np.array, shape [num_examples]\n",
    "#     ...\n",
    "# }\n",
    "preds = {}\n",
    "for bands in MODEL_BANDS:\n",
    "    preds[bands] = load_npz(\n",
    "        path=os.path.join(LOGS_ROOT_DIR, f'lsms_incountry_resnet', bands, 'test_preds.npz'),\n",
    "        check=dict(locs=locs, labels=labels)\n",
    "    )['test_preds']"
   ]
  },
  {
   "cell_type": "code",
   "execution_count": null,
   "metadata": {},
   "outputs": [],
   "source": [
    "preds_df = pd.DataFrame(\n",
    "    columns=['lat', 'lon', 'country', 'country_year', 'year', 'wealthpooled'] + MODEL_BANDS)\n",
    "preds_df['lat'] = locs[:, 0]\n",
    "preds_df['lon'] = locs[:, 1]\n",
    "\n",
    "for country in country_indices:\n",
    "    preds_df.loc[country_indices[country], 'country'] = country\n",
    "\n",
    "for cy in CY_INDICES:\n",
    "    preds_df.loc[CY_INDICES[cy], 'country_year'] = cy\n",
    "\n",
    "preds_df['wealthpooled'] = labels\n",
    "preds_df['year'] = years\n",
    "\n",
    "for model_name in MODEL_BANDS:\n",
    "    preds_df[model_name] = preds[model_name]\n",
    "\n",
    "# csv_path = os.path.join(BASE_CSV_DIR, 'preds_incountry.csv')\n",
    "# preds_df.to_csv(csv_path, index=False)"
   ]
  },
  {
   "cell_type": "code",
   "execution_count": null,
   "metadata": {},
   "outputs": [],
   "source": [
    "with pd.option_context('display.max_rows', 8):\n",
    "    display(preds_df)"
   ]
  },
  {
   "cell_type": "code",
   "execution_count": null,
   "metadata": {},
   "outputs": [],
   "source": [
    "overall_df = evaluate_df(preds_df.rename({'wealthpooled': 'label'}, axis=1), cols=MODEL_BANDS)\n",
    "overall_df.sort_values(by='r2', ascending=False, inplace=True)\n",
    "colordisplay(overall_df)"
   ]
  },
  {
   "cell_type": "code",
   "execution_count": null,
   "metadata": {},
   "outputs": [],
   "source": [
    "incountry_df = pd.DataFrame(columns=['country_year', 'model', 'r2', 'R2', 'mse', 'rank'], dtype=np.float64)\n",
    "incountry_df.set_index(['country_year', 'model'], inplace=True)\n",
    "\n",
    "for cy, cy_indices in CY_INDICES.items():\n",
    "    for model_name in MODEL_BANDS:\n",
    "        incountry_df.loc[(cy, model_name), :] = evaluate(\n",
    "            preds=preds[model_name][cy_indices], labels=labels[cy_indices])"
   ]
  },
  {
   "cell_type": "code",
   "execution_count": null,
   "metadata": {},
   "outputs": [],
   "source": [
    "with pd.option_context('display.max_rows', 14):\n",
    "    display(incountry_df)"
   ]
  },
  {
   "cell_type": "code",
   "execution_count": null,
   "metadata": {},
   "outputs": [],
   "source": [
    "display(incountry_df['r2'].unstack(level='model'))\n",
    "display(incountry_df['R2'].unstack(level='model'))"
   ]
  },
  {
   "cell_type": "markdown",
   "metadata": {},
   "source": [
    "## Changes over time"
   ]
  },
  {
   "cell_type": "code",
   "execution_count": null,
   "metadata": {},
   "outputs": [],
   "source": [
    "idx1 = delta_pairs_df['index1']\n",
    "idx2 = delta_pairs_df['index2']\n",
    "bands = MODEL_BANDS + ['wealthpooled']\n",
    "delta_preds_df = preds_df.loc[idx2, bands].reset_index(drop=True) - preds_df.loc[idx1, bands].reset_index(drop=True)\n",
    "delta_preds_df.rename({'wealthpooled': 'label'}, axis=1, inplace=True)\n",
    "display(evaluate_df(delta_preds_df, cols=MODEL_BANDS))"
   ]
  },
  {
   "cell_type": "code",
   "execution_count": null,
   "metadata": {
    "scrolled": true
   },
   "outputs": [],
   "source": [
    "analyze_changes(preds_df, 'ethiopia', y1=2011, y2=2015, model='incountry')"
   ]
  },
  {
   "cell_type": "code",
   "execution_count": null,
   "metadata": {
    "scrolled": true
   },
   "outputs": [],
   "source": [
    "analyze_changes(preds_df, 'malawi', y1=2010, y2=2016, model='incountry')"
   ]
  },
  {
   "cell_type": "code",
   "execution_count": null,
   "metadata": {
    "scrolled": true
   },
   "outputs": [],
   "source": [
    "analyze_changes(preds_df, 'nigeria', y1=2010, y2=2015, model='incountry')"
   ]
  },
  {
   "cell_type": "code",
   "execution_count": null,
   "metadata": {
    "scrolled": true
   },
   "outputs": [],
   "source": [
    "analyze_changes(preds_df, 'tanzania', y1=2008, y2=2012, model='incountry')"
   ]
  },
  {
   "cell_type": "code",
   "execution_count": null,
   "metadata": {
    "scrolled": true
   },
   "outputs": [],
   "source": [
    "analyze_changes(preds_df, 'uganda', y1=2005, y2=2009, model='incountry')"
   ]
  },
  {
   "cell_type": "code",
   "execution_count": null,
   "metadata": {
    "scrolled": true
   },
   "outputs": [],
   "source": [
    "analyze_changes(preds_df, 'uganda', y1=2005, y2=2013, model='incountry')"
   ]
  },
  {
   "cell_type": "code",
   "execution_count": null,
   "metadata": {
    "scrolled": true
   },
   "outputs": [],
   "source": [
    "analyze_changes(preds_df, 'uganda', y1=2009, y2=2013, model='incountry')"
   ]
  }
 ],
 "metadata": {
  "kernelspec": {
   "display_name": "Python 3",
   "language": "python",
   "name": "python3"
  },
  "language_info": {
   "codemirror_mode": {
    "name": "ipython",
    "version": 3
   },
   "file_extension": ".py",
   "mimetype": "text/x-python",
   "name": "python",
   "nbconvert_exporter": "python",
   "pygments_lexer": "ipython3",
   "version": "3.7.3"
  },
  "toc": {
   "base_numbering": 1,
   "nav_menu": {},
   "number_sections": true,
   "sideBar": true,
   "skip_h1_title": false,
   "title_cell": "Table of Contents",
   "title_sidebar": "Contents",
   "toc_cell": true,
   "toc_position": {
    "height": "calc(100% - 180px)",
    "left": "10px",
    "top": "150px",
    "width": "341px"
   },
   "toc_section_display": true,
   "toc_window_display": true
  }
 },
 "nbformat": 4,
 "nbformat_minor": 2
}
