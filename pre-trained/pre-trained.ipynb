{
 "cells": [
  {
   "cell_type": "markdown",
   "metadata": {},
   "source": [
    "# Setup"
   ]
  },
  {
   "cell_type": "code",
   "execution_count": null,
   "metadata": {},
   "outputs": [],
   "source": [
    "import numpy as np\n",
    "import torch\n",
    "import matplotlib.pyplot as plt\n",
    "from torchvision.io import read_image\n",
    "from torchvision.models import resnet50, ResNet50_Weights\n",
    "import torchvision.transforms as T\n",
    "from PIL import Image\n",
    "from sklearn.linear_model import Ridge\n",
    "\n",
    "from google.colab import drive\n",
    "drive.mount('/content/drive/')"
   ]
  },
  {
   "cell_type": "markdown",
   "metadata": {},
   "source": [
    "# Data"
   ]
  },
  {
   "cell_type": "code",
   "execution_count": null,
   "metadata": {},
   "outputs": [],
   "source": [
    "RootDir = '/content/drive/MyDrive/STAT288_Project/'"
   ]
  },
  {
   "cell_type": "code",
   "execution_count": null,
   "metadata": {},
   "outputs": [],
   "source": [
    "def augment_data_rotation(x, y):\n",
    "    augmented_x = []\n",
    "    augmented_y = []\n",
    "    for i in range(len(x)):\n",
    "        curr = x[i]\n",
    "        for _ in range(4):\n",
    "            # flips\n",
    "            flip_x = np.flip(curr, axis=0)\n",
    "            flip_y = np.flip(curr, axis=1)\n",
    "            flip_xy = np.flip(flip_x, axis=1)\n",
    "            augmented_x.append(flip_x)\n",
    "            augmented_y.append(y[i])\n",
    "            augmented_x.append(flip_y)\n",
    "            augmented_y.append(y[i])\n",
    "            augmented_x.append(flip_xy)\n",
    "            augmented_y.append(y[i])\n",
    "\n",
    "            # rotations\n",
    "            augmented_x.append(curr)\n",
    "            augmented_y.append(y[i])\n",
    "            curr = np.rot90(curr)\n",
    "    return (augmented_x, augmented_y)"
   ]
  },
  {
   "cell_type": "code",
   "execution_count": null,
   "metadata": {},
   "outputs": [],
   "source": [
    "def augment_rotate(x):\n",
    "    augmented_x = []\n",
    "    curr = x\n",
    "    for _ in range(4):\n",
    "        # rotations\n",
    "        augmented_x.append(curr)\n",
    "        curr = torch.rot90(curr, dims=[1, 2])\n",
    "    return augmented_x"
   ]
  },
  {
   "cell_type": "code",
   "execution_count": null,
   "metadata": {},
   "outputs": [],
   "source": [
    "# Load data\n",
    "x_train = np.load(RootDir + 'SpaceNet/sat_train.npy').astype('float32')\n",
    "init_y_train = np.load(RootDir + 'SpaceNet/bul_train.npy').astype('float32')\n",
    "x_test = np.load(RootDir + 'SpaceNet/sat_test.npy').astype('float32')\n",
    "init_y_test = np.load(RootDir + 'SpaceNet/bul_test.npy').astype('float32')\n",
    "\n",
    "print(\"x_train shape\", x_train.shape)\n",
    "print(\"init_y_train shape\", init_y_train.shape)\n",
    "print(\"x_test shape\", x_test.shape)\n",
    "print(\"init_y_test shape\", init_y_test.shape)\n",
    "\n",
    "y_train = np.sum(init_y_train, axis=(1, 2, 3))\n",
    "y_test = np.sum(init_y_test, axis=(1, 2, 3))\n",
    "print(\"y_train shape\", y_train.shape)\n",
    "print(\"y_test shape\", y_test.shape)"
   ]
  },
  {
   "cell_type": "code",
   "execution_count": null,
   "metadata": {},
   "outputs": [],
   "source": [
    "# Rotate the original images\n",
    "augmented_x_train, augmented_y_train = augment_data_rotation(x_train, y_train)\n",
    "augmented_x_test, augmented_y_test = augment_data_rotation(x_test, y_test)\n",
    "\n",
    "augmented_x_train = np.asarray(augmented_x_train)\n",
    "augmented_y_train = np.asarray(augmented_y_train)\n",
    "augmented_x_test = np.asarray(augmented_x_test)\n",
    "augmented_y_test = np.asarray(augmented_y_test)\n",
    "\n",
    "print(\"augmented_x_train shape\", augmented_x_train.shape)\n",
    "print(\"augmented_y_train shape\", augmented_y_train.shape)"
   ]
  },
  {
   "cell_type": "code",
   "execution_count": null,
   "metadata": {},
   "outputs": [],
   "source": [
    "transform = T.ToPILImage()\n",
    "x_train_imgs = []\n",
    "for i in range(len(x_train)):\n",
    "    x_train_imgs.append(transform(x_train[i]))\n",
    "\n",
    "x_test_imgs = []\n",
    "for i in range(len(x_test)):\n",
    "    x_test_imgs.append(transform(x_test[i]))"
   ]
  },
  {
   "cell_type": "markdown",
   "metadata": {},
   "source": [
    "# Model"
   ]
  },
  {
   "cell_type": "code",
   "execution_count": null,
   "metadata": {},
   "outputs": [],
   "source": [
    "# Get weights\n",
    "weights = ResNet50_Weights.DEFAULT\n",
    "model = resnet50(weights=weights)\n",
    "model.eval()"
   ]
  },
  {
   "cell_type": "code",
   "execution_count": null,
   "metadata": {},
   "outputs": [],
   "source": [
    "# Preprocess data\n",
    "preprocess = weights.transforms()\n",
    "transformed_x_train = []\n",
    "for i in range(len(x_train_imgs)):\n",
    "    transformed_x_train.append(preprocess(x_train_imgs[i]).unsqueeze(0))\n",
    "\n",
    "transformed_x_test = []\n",
    "for i in range(len(x_test_imgs)):\n",
    "    transformed_x_test.append(preprocess(x_test_imgs[i]).unsqueeze(0))"
   ]
  },
  {
   "cell_type": "code",
   "execution_count": null,
   "metadata": {},
   "outputs": [],
   "source": [
    "# Run inference to get latent variables\n",
    "x_train_vars = []\n",
    "for i in range(len(transformed_x_train)):\n",
    "    x_train_vars.append(model(transformed_x_train[i]).squeeze(0))\n",
    "\n",
    "x_test_vars = []\n",
    "for i in range(len(transformed_x_test)):\n",
    "    x_test_vars.append(model(transformed_x_test[i]).squeeze(0))"
   ]
  },
  {
   "cell_type": "markdown",
   "metadata": {},
   "source": [
    "# Ridge"
   ]
  },
  {
   "cell_type": "code",
   "execution_count": null,
   "metadata": {},
   "outputs": [],
   "source": [
    "# Run ridge regression\n",
    "x_trains_vars_np = []\n",
    "for i in range(len(x_train_vars)):\n",
    "    x_trains_vars_np.append(x_train_vars[i].detach().numpy())\n",
    "clf = Ridge()\n",
    "clf.fit(x_trains_vars_np, y_train)"
   ]
  },
  {
   "cell_type": "markdown",
   "metadata": {},
   "source": [
    "# Inference"
   ]
  },
  {
   "cell_type": "code",
   "execution_count": null,
   "metadata": {},
   "outputs": [],
   "source": [
    "stddev = []\n",
    "for i in range(len(x_test_imgs)):\n",
    "    out = []\n",
    "    for elt in augment_rotate(preprocess(x_test_imgs[i])):\n",
    "        out.append(clf.predict([model(elt.unsqueeze(0)).squeeze(0).detach().numpy()])[0])\n",
    "    stddev.append(np.std(out))\n",
    "print(np.average(stddev))"
   ]
  },
  {
   "cell_type": "code",
   "execution_count": null,
   "metadata": {},
   "outputs": [],
   "source": [
    "values = [5130.882, 4400.313, 5226.372, 3682.026]\n",
    "# Plot train data\n",
    "plt.figure(figsize=(24, 16))\n",
    "plt.title(\"Training Data\")\n",
    "for i in range(4):\n",
    "    plt.subplot(1, 4, i + 1)\n",
    "    plt.title(f\"Predicted Index: {values[i]}\")\n",
    "    plt.imshow(augmented_x_train[4 * i, :, :, :].astype('uint8'))\n",
    "\n",
    "plt.tight_layout()\n",
    "plt.show()"
   ]
  }
 ],
 "metadata": {
  "language_info": {
   "name": "python"
  }
 },
 "nbformat": 4,
 "nbformat_minor": 2
}
